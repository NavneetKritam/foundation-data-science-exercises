{
 "cells": [
  {
   "cell_type": "markdown",
   "id": "59b1c9ba",
   "metadata": {},
   "source": [
    "## Check for sheath\n",
    "\n",
    "1. Generate n data-points\n",
    "2. Create distance matrix\n",
    "3. SVD of distance matrix\n",
    "4. Get distribtuion of SVs"
   ]
  },
  {
   "cell_type": "markdown",
   "id": "dee36125",
   "metadata": {},
   "source": [
    "### 1. Geneate n data-points\n",
    "\n",
    "Get points of form $(zcos(z), zsin(z), z)$"
   ]
  },
  {
   "cell_type": "code",
   "execution_count": 1,
   "id": "ec908231",
   "metadata": {},
   "outputs": [],
   "source": [
    "!pip install --quiet numpy scipy"
   ]
  },
  {
   "cell_type": "code",
   "execution_count": null,
   "id": "94ec233e",
   "metadata": {},
   "outputs": [],
   "source": [
    "import numpy as np"
   ]
  },
  {
   "cell_type": "code",
   "execution_count": 3,
   "id": "8c39470a",
   "metadata": {},
   "outputs": [],
   "source": [
    "n = 100"
   ]
  },
  {
   "cell_type": "code",
   "execution_count": 4,
   "id": "de915f62",
   "metadata": {},
   "outputs": [],
   "source": [
    "z = np.random.randn(n, 1)"
   ]
  },
  {
   "cell_type": "code",
   "execution_count": 5,
   "id": "a8bd2f20",
   "metadata": {},
   "outputs": [],
   "source": [
    "x = z * np.cos(z)\n",
    "y = z * np.sin(z)"
   ]
  },
  {
   "cell_type": "code",
   "execution_count": 6,
   "id": "c74777c1",
   "metadata": {},
   "outputs": [],
   "source": [
    "points = np.stack([x, y, z], axis=1)"
   ]
  },
  {
   "cell_type": "code",
   "execution_count": 13,
   "id": "c52438ad",
   "metadata": {},
   "outputs": [],
   "source": [
    "points = points.squeeze()"
   ]
  },
  {
   "cell_type": "markdown",
   "id": "70ec4e9a",
   "metadata": {},
   "source": [
    "### 2. Create Distance Matrix"
   ]
  },
  {
   "cell_type": "code",
   "execution_count": 8,
   "id": "fdc58f2a",
   "metadata": {},
   "outputs": [],
   "source": [
    "from scipy.spatial import distance_matrix"
   ]
  },
  {
   "cell_type": "code",
   "execution_count": 14,
   "id": "d6a51f35",
   "metadata": {},
   "outputs": [],
   "source": [
    "d_matrix = distance_matrix(points, points)"
   ]
  },
  {
   "cell_type": "code",
   "execution_count": 16,
   "id": "ce8a5535",
   "metadata": {},
   "outputs": [],
   "source": [
    "k = 10"
   ]
  },
  {
   "cell_type": "code",
   "execution_count": 17,
   "id": "f4ee0da0",
   "metadata": {},
   "outputs": [],
   "source": [
    "d_matrix = np.sort(d_matrix)[:, 1:1 + k]"
   ]
  },
  {
   "cell_type": "code",
   "execution_count": 18,
   "id": "43679454",
   "metadata": {},
   "outputs": [
    {
     "data": {
      "text/plain": [
       "(100, 10)"
      ]
     },
     "execution_count": 18,
     "metadata": {},
     "output_type": "execute_result"
    }
   ],
   "source": [
    "d_matrix.shape"
   ]
  },
  {
   "cell_type": "markdown",
   "id": "91172107",
   "metadata": {},
   "source": [
    "### 3. SVD of Distance matrix"
   ]
  },
  {
   "cell_type": "code",
   "execution_count": 21,
   "id": "58d889bd",
   "metadata": {},
   "outputs": [],
   "source": [
    "svd_value = np.linalg.svd(d_matrix, compute_uv=False)"
   ]
  },
  {
   "cell_type": "code",
   "execution_count": 22,
   "id": "b4641bc5",
   "metadata": {},
   "outputs": [
    {
     "data": {
      "text/plain": [
       "(10,)"
      ]
     },
     "execution_count": 22,
     "metadata": {},
     "output_type": "execute_result"
    }
   ],
   "source": [
    "svd_value.shape"
   ]
  },
  {
   "cell_type": "markdown",
   "id": "7b1ca6a4",
   "metadata": {},
   "source": [
    "### 4. Create Distribution of SV"
   ]
  },
  {
   "cell_type": "code",
   "execution_count": 27,
   "id": "96eaa994",
   "metadata": {},
   "outputs": [],
   "source": [
    "import matplotlib.pyplot as plt"
   ]
  },
  {
   "cell_type": "code",
   "execution_count": 31,
   "id": "5ecfa835",
   "metadata": {},
   "outputs": [
    {
     "data": {
      "image/png": "[encoded data removed]",
      "text/plain": [
       "<Figure size 640x480 with 1 Axes>"
      ]
     },
     "metadata": {},
     "output_type": "display_data"
    }
   ],
   "source": [
    "plt.bar(range(k), svd_value)\n",
    "plt.show()"
   ]
  }
 ],
 "metadata": {
  "kernelspec": {
   "display_name": ".venv",
   "language": "python",
   "name": "python3"
  },
  "language_info": {
   "codemirror_mode": {
    "name": "ipython",
    "version": 3
   },
   "file_extension": ".py",
   "mimetype": "text/x-python",
   "name": "python",
   "nbconvert_exporter": "python",
   "pygments_lexer": "ipython3",
   "version": "3.13.1"
  }
 },
 "nbformat": 4,
 "nbformat_minor": 5
}
